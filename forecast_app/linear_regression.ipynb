{
 "cells": [
  {
   "cell_type": "code",
   "execution_count": 15,
   "id": "93aa5f41",
   "metadata": {},
   "outputs": [],
   "source": [
    "import tensorflow as tf\n",
    "\n",
    "import pandas as pd\n",
    "import numpy as np\n",
    "\n",
    "import seaborn as sns\n",
    "import matplotlib.pyplot as plt"
   ]
  },
  {
   "cell_type": "code",
   "execution_count": 16,
   "id": "98df8ab2",
   "metadata": {},
   "outputs": [],
   "source": [
    "# Prepare the dataset\n",
    "df = pd.read_csv('../data/btcusd_1-min_data.csv')\n",
    "dataset = df.copy()\n",
    "\n",
    "train_dataset = dataset.sample(frac=0.8, random_state=0)\n",
    "test_dataset = dataset.drop(train_dataset.index)\n",
    "\n",
    "\n",
    "train_features = train_dataset.copy()\n",
    "test_features = test_dataset.copy()"
   ]
  },
  {
   "cell_type": "code",
   "execution_count": 17,
   "id": "96dd7a43",
   "metadata": {},
   "outputs": [],
   "source": [
    "# Remove the target variable from features\n",
    "train_labels = train_features.pop('Close')\n",
    "test_labels = test_features.pop('Close')"
   ]
  },
  {
   "cell_type": "code",
   "execution_count": 18,
   "id": "68d4b528",
   "metadata": {},
   "outputs": [
    {
     "data": {
      "application/vnd.microsoft.datawrangler.viewer.v0+json": {
       "columns": [
        {
         "name": "index",
         "rawType": "object",
         "type": "string"
        },
        {
         "name": "mean",
         "rawType": "float64",
         "type": "float"
        },
        {
         "name": "std",
         "rawType": "float64",
         "type": "float"
        }
       ],
       "ref": "62939d15-0004-4b8a-b61c-e2bde3680407",
       "rows": [
        [
         "Timestamp",
         "1539113155.496279",
         "123391195.7884872"
        ],
        [
         "Open",
         "18812.2220967884",
         "26335.96511639161"
        ],
        [
         "High",
         "18819.365248331003",
         "26343.827250175917"
        ],
        [
         "Low",
         "18804.856966176416",
         "26327.922677066315"
        ],
        [
         "Close",
         "18812.215968819048",
         "26335.941152426436"
        ],
        [
         "Volume",
         "5.238906902352054",
         "22.50610674149598"
        ]
       ],
       "shape": {
        "columns": 2,
        "rows": 6
       }
      },
      "text/html": [
       "<div>\n",
       "<style scoped>\n",
       "    .dataframe tbody tr th:only-of-type {\n",
       "        vertical-align: middle;\n",
       "    }\n",
       "\n",
       "    .dataframe tbody tr th {\n",
       "        vertical-align: top;\n",
       "    }\n",
       "\n",
       "    .dataframe thead th {\n",
       "        text-align: right;\n",
       "    }\n",
       "</style>\n",
       "<table border=\"1\" class=\"dataframe\">\n",
       "  <thead>\n",
       "    <tr style=\"text-align: right;\">\n",
       "      <th></th>\n",
       "      <th>mean</th>\n",
       "      <th>std</th>\n",
       "    </tr>\n",
       "  </thead>\n",
       "  <tbody>\n",
       "    <tr>\n",
       "      <th>Timestamp</th>\n",
       "      <td>1.539113e+09</td>\n",
       "      <td>1.233912e+08</td>\n",
       "    </tr>\n",
       "    <tr>\n",
       "      <th>Open</th>\n",
       "      <td>1.881222e+04</td>\n",
       "      <td>2.633597e+04</td>\n",
       "    </tr>\n",
       "    <tr>\n",
       "      <th>High</th>\n",
       "      <td>1.881937e+04</td>\n",
       "      <td>2.634383e+04</td>\n",
       "    </tr>\n",
       "    <tr>\n",
       "      <th>Low</th>\n",
       "      <td>1.880486e+04</td>\n",
       "      <td>2.632792e+04</td>\n",
       "    </tr>\n",
       "    <tr>\n",
       "      <th>Close</th>\n",
       "      <td>1.881222e+04</td>\n",
       "      <td>2.633594e+04</td>\n",
       "    </tr>\n",
       "    <tr>\n",
       "      <th>Volume</th>\n",
       "      <td>5.238907e+00</td>\n",
       "      <td>2.250611e+01</td>\n",
       "    </tr>\n",
       "  </tbody>\n",
       "</table>\n",
       "</div>"
      ],
      "text/plain": [
       "                   mean           std\n",
       "Timestamp  1.539113e+09  1.233912e+08\n",
       "Open       1.881222e+04  2.633597e+04\n",
       "High       1.881937e+04  2.634383e+04\n",
       "Low        1.880486e+04  2.632792e+04\n",
       "Close      1.881222e+04  2.633594e+04\n",
       "Volume     5.238907e+00  2.250611e+01"
      ]
     },
     "execution_count": 18,
     "metadata": {},
     "output_type": "execute_result"
    }
   ],
   "source": [
    "train_dataset.describe().transpose()[['mean', 'std']]"
   ]
  },
  {
   "cell_type": "code",
   "execution_count": 19,
   "id": "b04cdae2",
   "metadata": {},
   "outputs": [],
   "source": [
    "normalizer = tf.keras.layers.Normalization(axis=-1)\n",
    "normalizer.adapt(np.array(train_features))"
   ]
  },
  {
   "cell_type": "code",
   "execution_count": 20,
   "id": "b708468a",
   "metadata": {},
   "outputs": [
    {
     "name": "stderr",
     "output_type": "stream",
     "text": [
      "/data/projects/personal/bitbot/forecast_app/.venv/lib/python3.12/site-packages/keras/src/layers/preprocessing/tf_data_layer.py:19: UserWarning: Do not pass an `input_shape`/`input_dim` argument to a layer. When using Sequential models, prefer using an `Input(shape)` object as the first layer in the model instead.\n",
      "  super().__init__(**kwargs)\n"
     ]
    }
   ],
   "source": [
    "close_ = np.array(train_features[\"Open\"])\n",
    "close_normalizer = tf.keras.layers.Normalization(input_shape=[1,], axis=None)\n",
    "close_normalizer.adapt(close_)"
   ]
  },
  {
   "cell_type": "code",
   "execution_count": 21,
   "id": "0342049a",
   "metadata": {},
   "outputs": [],
   "source": [
    "close_model = tf.keras.Sequential([\n",
    "    close_normalizer,\n",
    "    tf.keras.layers.Dense(units=1)\n",
    "])"
   ]
  },
  {
   "cell_type": "code",
   "execution_count": 22,
   "id": "920033d7",
   "metadata": {},
   "outputs": [],
   "source": [
    "close_model.compile(\n",
    "    optimizer=tf.keras.optimizers.Adam(learning_rate=0.1),\n",
    "    loss='mean_absolute_error')"
   ]
  },
  {
   "cell_type": "code",
   "execution_count": null,
   "id": "96161734",
   "metadata": {},
   "outputs": [
    {
     "name": "stdout",
     "output_type": "stream",
     "text": [
      "Epoch 1/100\n"
     ]
    },
    {
     "name": "stdout",
     "output_type": "stream",
     "text": [
      "\u001b[1m142465/142465\u001b[0m \u001b[32m━━━━━━━━━━━━━━━━━━━━\u001b[0m\u001b[37m\u001b[0m \u001b[1m279s\u001b[0m 2ms/step - loss: 16136.1455 - val_loss: 8645.2988\n",
      "Epoch 2/100\n",
      "\u001b[1m142465/142465\u001b[0m \u001b[32m━━━━━━━━━━━━━━━━━━━━\u001b[0m\u001b[37m\u001b[0m \u001b[1m281s\u001b[0m 2ms/step - loss: 6289.6670 - val_loss: 9.2448\n",
      "Epoch 3/100\n",
      "\u001b[1m142465/142465\u001b[0m \u001b[32m━━━━━━━━━━━━━━━━━━━━\u001b[0m\u001b[37m\u001b[0m \u001b[1m281s\u001b[0m 2ms/step - loss: 9.2187 - val_loss: 9.2374\n",
      "Epoch 4/100\n",
      "\u001b[1m142465/142465\u001b[0m \u001b[32m━━━━━━━━━━━━━━━━━━━━\u001b[0m\u001b[37m\u001b[0m \u001b[1m280s\u001b[0m 2ms/step - loss: 9.1983 - val_loss: 9.2315\n",
      "Epoch 5/100\n",
      "\u001b[1m142465/142465\u001b[0m \u001b[32m━━━━━━━━━━━━━━━━━━━━\u001b[0m\u001b[37m\u001b[0m \u001b[1m292s\u001b[0m 2ms/step - loss: 9.1878 - val_loss: 9.2331\n",
      "Epoch 6/100\n",
      "\u001b[1m117128/142465\u001b[0m \u001b[32m━━━━━━━━━━━━━━━━\u001b[0m\u001b[37m━━━━\u001b[0m \u001b[1m36s\u001b[0m 1ms/step - loss: 9.2059"
     ]
    }
   ],
   "source": [
    "history = close_model.fit(\n",
    "    train_features['Open'],\n",
    "    train_labels,\n",
    "    epochs=100,\n",
    "    # Calculate validation results on 20% of the training data.\n",
    "    validation_split = 0.2)\n"
   ]
  },
  {
   "cell_type": "code",
   "execution_count": null,
   "id": "ccb1077b",
   "metadata": {},
   "outputs": [],
   "source": [
    "hist = pd.DataFrame(history.history)\n",
    "hist['epoch'] = history.epoch\n",
    "print(hist.tail())"
   ]
  },
  {
   "cell_type": "code",
   "execution_count": null,
   "id": "a12fa8d1",
   "metadata": {},
   "outputs": [],
   "source": [
    "def plot_loss(history):\n",
    "  plt.plot(history.history['loss'], label='loss')\n",
    "  plt.plot(history.history['val_loss'], label='val_loss')\n",
    "  plt.ylim([0, 10])\n",
    "  plt.xlabel('Epoch')\n",
    "  plt.ylabel('Error [MPG]')\n",
    "  plt.legend()\n",
    "  plt.grid(True)"
   ]
  },
  {
   "cell_type": "code",
   "execution_count": null,
   "id": "43cbf0df",
   "metadata": {},
   "outputs": [],
   "source": [
    "plot_loss(history)"
   ]
  }
 ],
 "metadata": {
  "kernelspec": {
   "display_name": ".venv",
   "language": "python",
   "name": "python3"
  },
  "language_info": {
   "codemirror_mode": {
    "name": "ipython",
    "version": 3
   },
   "file_extension": ".py",
   "mimetype": "text/x-python",
   "name": "python",
   "nbconvert_exporter": "python",
   "pygments_lexer": "ipython3",
   "version": "3.12.3"
  }
 },
 "nbformat": 4,
 "nbformat_minor": 5
}
